{
 "cells": [
  {
   "cell_type": "markdown",
   "metadata": {},
   "source": [
    "## <center> Задание №1 </center> ##\n",
    "### <center> Выполнил: Алексей Демин </center> ###\n",
    "\n",
    "Текст задания - Руководство компании обратило внимание на то, что сотрудники старше 35 лет болеют чаще, чем более молодые сотрудники. Кроме этого, среди мужчин количество пропусков рабочих дней в связи с больничным выше, чем среди женщин. В связи с этой ситуацией, руководство организации планирует ввести дополнительные медицинские осмотры среди групп риска. \n",
    "\n",
    "Необходимо обосновать, что:\n",
    "\n",
    "1)\tМужчины пропускают в течение года более 2 рабочих дней по болезни значимо чаще женщин.\n",
    "\n",
    "2)\tРаботники старше 35 лет пропускают в течение года более 2 рабочих дней по болезни значимо чаще своих более молодых коллег.\n",
    "\n",
    "Все необходимые данные содержатся в файле «Статистика за 2016 год».\n"
   ]
  },
  {
   "cell_type": "markdown",
   "metadata": {},
   "source": [
    "#### Импортируем необходимые библиотеки для работы"
   ]
  },
  {
   "cell_type": "code",
   "execution_count": 1,
   "metadata": {},
   "outputs": [],
   "source": [
    "import numpy as np\n",
    "import pandas as pd\n",
    "import matplotlib.pyplot as plt\n",
    "import seaborn as sns\n",
    "import warnings\n",
    "\n",
    "from scipy.stats import chi2_contingency\n",
    "\n",
    "warnings.filterwarnings(\"ignore\")\n",
    "%matplotlib inline"
   ]
  },
  {
   "cell_type": "markdown",
   "metadata": {},
   "source": [
    "#### Читаем данные из файла и сразу делаем предосмотр"
   ]
  },
  {
   "cell_type": "code",
   "execution_count": 2,
   "metadata": {
    "scrolled": true
   },
   "outputs": [
    {
     "data": {
      "text/html": [
       "<div>\n",
       "<style scoped>\n",
       "    .dataframe tbody tr th:only-of-type {\n",
       "        vertical-align: middle;\n",
       "    }\n",
       "\n",
       "    .dataframe tbody tr th {\n",
       "        vertical-align: top;\n",
       "    }\n",
       "\n",
       "    .dataframe thead th {\n",
       "        text-align: right;\n",
       "    }\n",
       "</style>\n",
       "<table border=\"1\" class=\"dataframe\">\n",
       "  <thead>\n",
       "    <tr style=\"text-align: right;\">\n",
       "      <th></th>\n",
       "      <th>Количество больничных дней</th>\n",
       "      <th>Возраст</th>\n",
       "      <th>Пол</th>\n",
       "    </tr>\n",
       "  </thead>\n",
       "  <tbody>\n",
       "    <tr>\n",
       "      <th>0</th>\n",
       "      <td>5</td>\n",
       "      <td>39</td>\n",
       "      <td>Ж</td>\n",
       "    </tr>\n",
       "    <tr>\n",
       "      <th>1</th>\n",
       "      <td>4</td>\n",
       "      <td>54</td>\n",
       "      <td>М</td>\n",
       "    </tr>\n",
       "    <tr>\n",
       "      <th>2</th>\n",
       "      <td>4</td>\n",
       "      <td>26</td>\n",
       "      <td>М</td>\n",
       "    </tr>\n",
       "    <tr>\n",
       "      <th>3</th>\n",
       "      <td>5</td>\n",
       "      <td>42</td>\n",
       "      <td>М</td>\n",
       "    </tr>\n",
       "    <tr>\n",
       "      <th>4</th>\n",
       "      <td>4</td>\n",
       "      <td>29</td>\n",
       "      <td>М</td>\n",
       "    </tr>\n",
       "  </tbody>\n",
       "</table>\n",
       "</div>"
      ],
      "text/plain": [
       "   Количество больничных дней  Возраст Пол\n",
       "0                           5       39   Ж\n",
       "1                           4       54   М\n",
       "2                           4       26   М\n",
       "3                           5       42   М\n",
       "4                           4       29   М"
      ]
     },
     "execution_count": 2,
     "metadata": {},
     "output_type": "execute_result"
    }
   ],
   "source": [
    "data = pd.read_csv('stats.csv', encoding = \"cp1251\")    # Вводим дополнительный параметр \"encoding\", \n",
    "                                                        # чтобы правильно прочесть кириллицу\n",
    "data.head()"
   ]
  },
  {
   "cell_type": "markdown",
   "metadata": {},
   "source": [
    "#### Для удобства работы добавим два бинарных признака в данные"
   ]
  },
  {
   "cell_type": "code",
   "execution_count": 3,
   "metadata": {
    "scrolled": true
   },
   "outputs": [
    {
     "data": {
      "text/html": [
       "<div>\n",
       "<style scoped>\n",
       "    .dataframe tbody tr th:only-of-type {\n",
       "        vertical-align: middle;\n",
       "    }\n",
       "\n",
       "    .dataframe tbody tr th {\n",
       "        vertical-align: top;\n",
       "    }\n",
       "\n",
       "    .dataframe thead th {\n",
       "        text-align: right;\n",
       "    }\n",
       "</style>\n",
       "<table border=\"1\" class=\"dataframe\">\n",
       "  <thead>\n",
       "    <tr style=\"text-align: right;\">\n",
       "      <th></th>\n",
       "      <th>Количество больничных дней</th>\n",
       "      <th>Возраст</th>\n",
       "      <th>Пол</th>\n",
       "      <th>Старший</th>\n",
       "      <th>Болеющий</th>\n",
       "    </tr>\n",
       "  </thead>\n",
       "  <tbody>\n",
       "    <tr>\n",
       "      <th>0</th>\n",
       "      <td>5</td>\n",
       "      <td>39</td>\n",
       "      <td>Ж</td>\n",
       "      <td>1</td>\n",
       "      <td>1</td>\n",
       "    </tr>\n",
       "    <tr>\n",
       "      <th>1</th>\n",
       "      <td>4</td>\n",
       "      <td>54</td>\n",
       "      <td>М</td>\n",
       "      <td>1</td>\n",
       "      <td>1</td>\n",
       "    </tr>\n",
       "    <tr>\n",
       "      <th>2</th>\n",
       "      <td>4</td>\n",
       "      <td>26</td>\n",
       "      <td>М</td>\n",
       "      <td>0</td>\n",
       "      <td>1</td>\n",
       "    </tr>\n",
       "    <tr>\n",
       "      <th>3</th>\n",
       "      <td>5</td>\n",
       "      <td>42</td>\n",
       "      <td>М</td>\n",
       "      <td>1</td>\n",
       "      <td>1</td>\n",
       "    </tr>\n",
       "    <tr>\n",
       "      <th>4</th>\n",
       "      <td>4</td>\n",
       "      <td>29</td>\n",
       "      <td>М</td>\n",
       "      <td>0</td>\n",
       "      <td>1</td>\n",
       "    </tr>\n",
       "  </tbody>\n",
       "</table>\n",
       "</div>"
      ],
      "text/plain": [
       "   Количество больничных дней  Возраст Пол  Старший  Болеющий\n",
       "0                           5       39   Ж        1         1\n",
       "1                           4       54   М        1         1\n",
       "2                           4       26   М        0         1\n",
       "3                           5       42   М        1         1\n",
       "4                           4       29   М        0         1"
      ]
     },
     "execution_count": 3,
     "metadata": {},
     "output_type": "execute_result"
    }
   ],
   "source": [
    "#Ставим 1 в признаке \"Старший\", если сотрудник старше 35 лет, иначе 0.\n",
    "#Далее для удобства в зависимости от возраста сотрудники будут обозначены как \"старшие\" и \"младшие\"\n",
    "data['Старший'] = data['Возраст'].apply(lambda x: 1 if x > 35 else 0)\n",
    "\n",
    "#Ставим 1 в признаке \"Болеющий\", если сотрудник пропустил работу более 2-ух раз, иначе 0\n",
    "#Далее для удобства в зависимости от пропусков сотрудники будут обозначены как \"болеющие\" и \"здоровые\"\n",
    "data['Болеющий'] = data['Количество больничных дней'].apply(lambda x: 1 if x > 2 else 0) \n",
    "data.head()"
   ]
  },
  {
   "cell_type": "markdown",
   "metadata": {},
   "source": [
    "#### Смотрим на основные параметры датасета"
   ]
  },
  {
   "cell_type": "code",
   "execution_count": 4,
   "metadata": {
    "scrolled": true
   },
   "outputs": [
    {
     "data": {
      "text/html": [
       "<div>\n",
       "<style scoped>\n",
       "    .dataframe tbody tr th:only-of-type {\n",
       "        vertical-align: middle;\n",
       "    }\n",
       "\n",
       "    .dataframe tbody tr th {\n",
       "        vertical-align: top;\n",
       "    }\n",
       "\n",
       "    .dataframe thead th {\n",
       "        text-align: right;\n",
       "    }\n",
       "</style>\n",
       "<table border=\"1\" class=\"dataframe\">\n",
       "  <thead>\n",
       "    <tr style=\"text-align: right;\">\n",
       "      <th></th>\n",
       "      <th>Количество больничных дней</th>\n",
       "      <th>Возраст</th>\n",
       "      <th>Старший</th>\n",
       "      <th>Болеющий</th>\n",
       "    </tr>\n",
       "  </thead>\n",
       "  <tbody>\n",
       "    <tr>\n",
       "      <th>count</th>\n",
       "      <td>237.000000</td>\n",
       "      <td>237.000000</td>\n",
       "      <td>237.000000</td>\n",
       "      <td>237.000000</td>\n",
       "    </tr>\n",
       "    <tr>\n",
       "      <th>mean</th>\n",
       "      <td>3.257384</td>\n",
       "      <td>40.181435</td>\n",
       "      <td>0.759494</td>\n",
       "      <td>0.637131</td>\n",
       "    </tr>\n",
       "    <tr>\n",
       "      <th>std</th>\n",
       "      <td>1.807821</td>\n",
       "      <td>6.875157</td>\n",
       "      <td>0.428295</td>\n",
       "      <td>0.481845</td>\n",
       "    </tr>\n",
       "    <tr>\n",
       "      <th>min</th>\n",
       "      <td>0.000000</td>\n",
       "      <td>23.000000</td>\n",
       "      <td>0.000000</td>\n",
       "      <td>0.000000</td>\n",
       "    </tr>\n",
       "    <tr>\n",
       "      <th>25%</th>\n",
       "      <td>2.000000</td>\n",
       "      <td>36.000000</td>\n",
       "      <td>1.000000</td>\n",
       "      <td>0.000000</td>\n",
       "    </tr>\n",
       "    <tr>\n",
       "      <th>50%</th>\n",
       "      <td>3.000000</td>\n",
       "      <td>41.000000</td>\n",
       "      <td>1.000000</td>\n",
       "      <td>1.000000</td>\n",
       "    </tr>\n",
       "    <tr>\n",
       "      <th>75%</th>\n",
       "      <td>4.000000</td>\n",
       "      <td>45.000000</td>\n",
       "      <td>1.000000</td>\n",
       "      <td>1.000000</td>\n",
       "    </tr>\n",
       "    <tr>\n",
       "      <th>max</th>\n",
       "      <td>8.000000</td>\n",
       "      <td>60.000000</td>\n",
       "      <td>1.000000</td>\n",
       "      <td>1.000000</td>\n",
       "    </tr>\n",
       "  </tbody>\n",
       "</table>\n",
       "</div>"
      ],
      "text/plain": [
       "       Количество больничных дней     Возраст     Старший    Болеющий\n",
       "count                  237.000000  237.000000  237.000000  237.000000\n",
       "mean                     3.257384   40.181435    0.759494    0.637131\n",
       "std                      1.807821    6.875157    0.428295    0.481845\n",
       "min                      0.000000   23.000000    0.000000    0.000000\n",
       "25%                      2.000000   36.000000    1.000000    0.000000\n",
       "50%                      3.000000   41.000000    1.000000    1.000000\n",
       "75%                      4.000000   45.000000    1.000000    1.000000\n",
       "max                      8.000000   60.000000    1.000000    1.000000"
      ]
     },
     "execution_count": 4,
     "metadata": {},
     "output_type": "execute_result"
    }
   ],
   "source": [
    "data.describe()"
   ]
  },
  {
   "cell_type": "markdown",
   "metadata": {},
   "source": [
    "#### Проверяем есть ли пропуски в данных"
   ]
  },
  {
   "cell_type": "code",
   "execution_count": 5,
   "metadata": {
    "scrolled": false
   },
   "outputs": [
    {
     "data": {
      "text/plain": [
       "Количество больничных дней    0\n",
       "Возраст                       0\n",
       "Пол                           0\n",
       "Старший                       0\n",
       "Болеющий                      0\n",
       "dtype: int64"
      ]
     },
     "execution_count": 5,
     "metadata": {},
     "output_type": "execute_result"
    }
   ],
   "source": [
    "data.isnull().sum() #Считаем общее кол-во пропусков по признакам"
   ]
  },
  {
   "cell_type": "markdown",
   "metadata": {},
   "source": [
    "#### Предварительный количественный анализ по признакам"
   ]
  },
  {
   "cell_type": "code",
   "execution_count": 6,
   "metadata": {
    "scrolled": false
   },
   "outputs": [
    {
     "name": "stdout",
     "output_type": "stream",
     "text": [
      "Соотношение полов в компании:\n",
      "М    139\n",
      "Ж     98\n",
      "Name: Пол, dtype: int64\n",
      "Соотношение по возрасту в компании (старше 35 лет):\n",
      "1    180\n",
      "0     57\n",
      "Name: Старший, dtype: int64\n"
     ]
    }
   ],
   "source": [
    "print('Соотношение полов в компании:', data[\"Пол\"].value_counts(), sep='\\n')\n",
    "print('Соотношение по возрасту в компании (старше 35 лет):', data[\"Старший\"].value_counts(), sep='\\n')"
   ]
  },
  {
   "cell_type": "code",
   "execution_count": 7,
   "metadata": {},
   "outputs": [
    {
     "name": "stdout",
     "output_type": "stream",
     "text": [
      "Соотошение мужчин по пропускам:\n",
      "1    84\n",
      "0    55\n",
      "Name: Болеющий, dtype: int64\n",
      "Соотошение женщин по пропускам:\n",
      "1    67\n",
      "0    31\n",
      "Name: Болеющий, dtype: int64\n"
     ]
    }
   ],
   "source": [
    "#Используем фильтр для получения нужных значений\n",
    "data_M = data[(data['Пол'] == 'М')]\n",
    "data_F = data[(data['Пол'] == 'Ж')]\n",
    "print('Соотошение мужчин по пропускам:', data_M['Болеющий'].value_counts(), sep='\\n')\n",
    "print('Соотошение женщин по пропускам:', data_F['Болеющий'].value_counts(), sep='\\n')"
   ]
  },
  {
   "cell_type": "code",
   "execution_count": 8,
   "metadata": {
    "scrolled": false
   },
   "outputs": [
    {
     "name": "stdout",
     "output_type": "stream",
     "text": [
      "Соотошение сотрудников старших 35 по пропускам:\n",
      "1    115\n",
      "0     65\n",
      "Name: Болеющий, dtype: int64\n",
      "Соотошение сотрудников младше 35 по пропускам:\n",
      "1    36\n",
      "0    21\n",
      "Name: Болеющий, dtype: int64\n"
     ]
    }
   ],
   "source": [
    "#Используем фильтр для получения нужных значений\n",
    "data_O = data[(data['Старший'] == 1)]\n",
    "data_Y = data[(data['Старший'] == 0)]\n",
    "print('Соотошение сотрудников старших 35 по пропускам:', data_O['Болеющий'].value_counts(), sep='\\n')\n",
    "print('Соотошение сотрудников младше 35 по пропускам:', data_Y['Болеющий'].value_counts(), sep='\\n')"
   ]
  },
  {
   "cell_type": "code",
   "execution_count": 9,
   "metadata": {},
   "outputs": [
    {
     "name": "stdout",
     "output_type": "stream",
     "text": [
      "Процент пропускающих мужщин: 65.47619047619048\n",
      "Процент пропускающих женщин: 46.26865671641791\n"
     ]
    }
   ],
   "source": [
    "print('Процент пропускающих мужщин:', data_M['Болеющий'].value_counts().values[1] \n",
    "      / data_M['Болеющий'].value_counts().values[0] * 100)\n",
    "print('Процент пропускающих женщин:', data_F['Болеющий'].value_counts().values[1] \n",
    "      / data_F['Болеющий'].value_counts().values[0] * 100)"
   ]
  },
  {
   "cell_type": "code",
   "execution_count": 10,
   "metadata": {},
   "outputs": [
    {
     "name": "stdout",
     "output_type": "stream",
     "text": [
      "Процент пропускающих старших: 56.52173913043478\n",
      "Процент пропускающих младших: 58.333333333333336\n"
     ]
    }
   ],
   "source": [
    "print('Процент пропускающих старших:', data_O['Болеющий'].value_counts().values[1] \n",
    "      / data_O['Болеющий'].value_counts().values[0] * 100)\n",
    "print('Процент пропускающих младших:', data_Y['Болеющий'].value_counts().values[1] \n",
    "      / data_Y['Болеющий'].value_counts().values[0] * 100)"
   ]
  },
  {
   "cell_type": "markdown",
   "metadata": {},
   "source": [
    "#### Выводы по количественному анализу:\n",
    "По полученным числам можно сказать, что мужчины больше пропускают работу по болезни чем женщины (84 к 67). Аналогично с возрастом - старшие сотрудники пропускают работу больше (115 к 36).\n",
    "\n",
    "Однако так же есть и сильный дисбаланс по классам - мужчин больше чем женщин (84 к 55), и работников старше 35 гораздо больше, чем молодых сотрудников (180 к 57).\n",
    "\n",
    "Различие по процентному соотношению для болеющих мужчин и женщин не особо велико. Для проверки значимости этого результата необходимо будет провести статистический тест.\n",
    "\n",
    "Различие по процентному соотношению для возрастных групп склоняется к младшим сотрудникам - молодых болеет больше. Уже на этом этапе вполне можно утверждать, что вторую гипотезу принять нельзя. Однако далее я все равно проведу аналогичный тест и для этого пункта задания."
   ]
  },
  {
   "cell_type": "markdown",
   "metadata": {},
   "source": [
    "#### Предварительный визуальный анализ данных"
   ]
  },
  {
   "cell_type": "code",
   "execution_count": 11,
   "metadata": {
    "scrolled": true
   },
   "outputs": [
    {
     "data": {
      "image/png": "[encoded data removed]",
      "text/plain": [
       "<Figure size 864x432 with 2 Axes>"
      ]
     },
     "metadata": {},
     "output_type": "display_data"
    }
   ],
   "source": [
    "# Далее можно визуализировать данные, полученные в предыдущих пунктах\n",
    "#\n",
    "# Строим две круговые диаграммы, которые покажут соотношение полов в компании, а также соотношение между теми кто\n",
    "# пропускает работу более 2-ух раз и менее 2-ух раз.\n",
    "\n",
    "plt.figure(figsize=(12,6))\n",
    "\n",
    "plt.subplot(121) # строим круговую диаграмму слева\n",
    "plt.pie(data[\"Пол\"].value_counts(), \n",
    "        labels=[\"Мужчины\",\"Женщины\"],\n",
    "        autopct=\"%1.0f%%\",wedgeprops={\"linewidth\":4,\"edgecolor\":\"white\"})\n",
    "plt.title(\"Соотношение полов\")\n",
    "\n",
    "\n",
    "plt.subplot(122) # строим круговую диаграмму справа\n",
    "plt.pie(data[\"Старший\"].value_counts(),\n",
    "        labels=[\"Старших\",\"Младших\"],\n",
    "        autopct=\"%1.0f%%\",wedgeprops={\"linewidth\":4,\"edgecolor\":\"white\"})\n",
    "plt.title(\"Соотношение работников по возрасту\")\n",
    "plt.show()"
   ]
  },
  {
   "cell_type": "code",
   "execution_count": 12,
   "metadata": {
    "scrolled": true
   },
   "outputs": [
    {
     "data": {
      "image/png": "[encoded data removed]",
      "text/plain": [
       "<Figure size 432x288 with 1 Axes>"
      ]
     },
     "metadata": {},
     "output_type": "display_data"
    },
    {
     "data": {
      "image/png": "[encoded data removed]",
      "text/plain": [
       "<Figure size 432x288 with 1 Axes>"
      ]
     },
     "metadata": {},
     "output_type": "display_data"
    }
   ],
   "source": [
    "# Строим вложенные круговые диаграммы аналогичные предыдущей ячейке,\n",
    "# но в этот раз обозначим болеющих сотрудников в соответствующей категории\n",
    "\n",
    "# Вложенная диаграмма для соотношения по полу\n",
    "fig, ax = plt.subplots()\n",
    "\n",
    "# Настройка цветовой палитры\n",
    "cmap = plt.get_cmap(\"tab20c\")\n",
    "outer_colors = cmap(np.arange(3)*4)\n",
    "inner_colors = cmap(np.array([1, 2, 5, 6, 9, 10]))\n",
    "\n",
    "# Размер диаграммы\n",
    "size = 0.8\n",
    "# Используем ранее полученные значения\n",
    "vals = np.array([data_M['Болеющий'].value_counts().values, data_F['Болеющий'].value_counts().values])\n",
    "\n",
    "ax.pie(vals.sum(axis=1), labels=[\"Мужчины\",\"Женщины\"], radius=2, colors=outer_colors,\n",
    "       wedgeprops=dict(width=size, edgecolor='w'), labeldistance=0.7)\n",
    "\n",
    "ax.pie(vals.flatten(), labels=[\"Бол.\",\"Здор.\", \"Бол.\",\"Здор.\"],\n",
    "       radius=2-size, colors=inner_colors, wedgeprops=dict(width=size, edgecolor='w'), labeldistance=0.5)\n",
    "plt.show()\n",
    "\n",
    "\n",
    "# Вложенная диаграмма для соотношения по возрасту\n",
    "fig, ax = plt.subplots()\n",
    "\n",
    "# Размер диаграммы\n",
    "size = 0.8\n",
    "# Используем ранее полученные значения\n",
    "vals = np.array([data_O['Болеющий'].value_counts().values, data_Y['Болеющий'].value_counts().values])\n",
    "\n",
    "ax.pie(vals.sum(axis=1), labels=[\"Старшие\",\"Младшие\"], radius=2, colors=outer_colors,\n",
    "       wedgeprops=dict(width=size, edgecolor='w'), labeldistance=0.7)\n",
    "\n",
    "ax.pie(vals.flatten(), labels=[\"Бол.\",\"Здор.\", \"Бол.\",\"Здор.\"],\n",
    "       radius=2-size, colors=inner_colors, wedgeprops=dict(width=size, edgecolor='w'), labeldistance=0.5)\n",
    "plt.show()\n",
    "\n"
   ]
  },
  {
   "cell_type": "markdown",
   "metadata": {},
   "source": [
    "#### Проверка статистических гипотез\n",
    "\n",
    "Статистическая гипотеза – утверждение относительно неизвестного параметра генеральной совокупности на основе выборочного исследования.\n",
    "\n",
    "Проведем исследование направленое на выявление связи между признаками. В данном случае необходимо узнать, влияет ли пол и возраст на количество пропущенных дней.\n",
    "\n",
    "В данном исследований лучше всего подойдет критерий ${\\chi}^2$ Пирсона. Хи-квадрат Пирсона это один из самых популярных статистических критериев для анализа качественных данных и анализа частот. Метод позволяет оценить статистическую значимость различий двух или нескольких относительных показателей (частот, долей)."
   ]
  },
  {
   "cell_type": "markdown",
   "metadata": {},
   "source": [
    "Проведем анализ для первого пункта и определим влияние пола на кол-во пропусков.\n",
    "\n",
    "Введем нулевую гипотезу $H_{0}$ - Мужчины пропускают работу по болезни (более 2-ух пропусков) НЕ чаще женщин.\n",
    "Тогда альтернативная гипотеза $H_{A}$ - Мужчины пропускают работу по болезни (более 2-ух пропусков) чаще женщин.\n",
    "\n",
    "Критерий хи-квадрат применяется при анализе таблиц сопряженности, содержащих сведения о частоте исходов в зависимости от наличия фактора риска. Построим таблицу сопряженности используя ранее полученные данные:"
   ]
  },
  {
   "cell_type": "markdown",
   "metadata": {},
   "source": [
    "|      -   | Болеющих | Здоровых | Всего |\n",
    "|---------|----------|----------|-------|\n",
    "| Пол (М) |       84 |       55 |   139 |\n",
    "| Пол (Ж) |       67 |       31 |    98 |\n",
    "| Всего   |      151 |       86 |   237 |"
   ]
  },
  {
   "cell_type": "markdown",
   "metadata": {},
   "source": [
    "В таблице выше указаны <b>наблюдаемые</b> значения. Для получения ${\\chi}^2$ сначала необходимо написать таблицу с <b>ожидаемыми</b> значениями. Данная таблица, как и ${\\chi}^2$ рассчитываются по не сложной формуле. Однако еще проще использовать модуль stats из scipy с функцией chi2_contingency, которая по наблюдаемым значениям сразу посчитает и таблицу с наблюдаемыми значениям, и само значение  ${\\chi}^2$"
   ]
  },
  {
   "cell_type": "code",
   "execution_count": 13,
   "metadata": {},
   "outputs": [
    {
     "data": {
      "text/plain": [
       "(1.5656095414907927, 0.21084576203875743, 1, array([[88.56118143, 50.43881857],\n",
       "        [62.43881857, 35.56118143]]))"
      ]
     },
     "execution_count": 13,
     "metadata": {},
     "output_type": "execute_result"
    }
   ],
   "source": [
    "obs = np.array([[84, 55], [67, 31]]) # наши наблюдаемые значения в виде массива\n",
    "chi2_contingency(obs, correction=False) # функция возвращающая нужные нам значения. Т.к. далее в таблице ожидаемых значений\n",
    "                                        # меньше 10 нет, отключаем коррекцию Йетса таблиц сопряженности"
   ]
  },
  {
   "cell_type": "markdown",
   "metadata": {},
   "source": [
    "Получаем:\n",
    "\n",
    "${\\chi}^2$ = 1.5656\n",
    "\n",
    "_p-значение_ = 0.2108\n",
    "\n",
    "_число степеней свободы_ = 1\n",
    "\n",
    "Для числа степеней свободы 1, и ${\\alpha}$ = 0.05: Критическое значение ${\\chi}^2$ = 3.841\n",
    "\n",
    "Полученное эмпирическое значение критерия ${\\chi}^2$ оказалось гораздо меньше критического (1.5656 < 3.841), это значит, что нулевая гипотеза не может быть отклонена. Cледовательно зависимость частоты пропусков от пола - статистически НЕ значима.\n",
    "\n",
    "#### Мужчины пропускают работу по болезни (более 2-ух пропусков) НЕ чаще женщин.\n",
    "\n",
    "Аналогично, полученное _p-значение_ гораздо больше уровня значимости (0.21 > 0.05) - нулевая гипотеза не может быть отклонена.\n"
   ]
  },
  {
   "cell_type": "markdown",
   "metadata": {},
   "source": [
    "Точно таким же способом проведем анализ второго пункта.\n",
    "\n",
    "Введем нулевую гипотезу $H_{0}$ - Старшие сотрудники пропускают работу по болезни (более 2-ух пропусков) НЕ чаще молодых.\n",
    "Тогда альтернативная гипотеза $H_{A}$ - Старшие сотрудники пропускают работу по болезни (более 2-ух пропусков) чаще молодых."
   ]
  },
  {
   "cell_type": "markdown",
   "metadata": {},
   "source": [
    "|      -   | Болеющих | Здоровых | Всего |\n",
    "|---------|----------|----------|-------|\n",
    "| Возраст > 35 |       115 |       65 |   180 |\n",
    "| Возраст < 35 |       36 |       21 |    57 |\n",
    "| Всего   |      151 |       86 |   237 |"
   ]
  },
  {
   "cell_type": "code",
   "execution_count": 14,
   "metadata": {},
   "outputs": [
    {
     "data": {
      "text/plain": [
       "(0.010005714656269607,\n",
       " 0.9203216442446261,\n",
       " 1,\n",
       " array([[114.6835443,  65.3164557],\n",
       "        [ 36.3164557,  20.6835443]]))"
      ]
     },
     "execution_count": 14,
     "metadata": {},
     "output_type": "execute_result"
    }
   ],
   "source": [
    "obs = np.array([[115, 65], [36, 21]])\n",
    "chi2_contingency(obs, correction=False)"
   ]
  },
  {
   "cell_type": "markdown",
   "metadata": {},
   "source": [
    "Получаем:\n",
    "\n",
    "${\\chi}^2$ = 0.01\n",
    "\n",
    "_p-значение_ = 0.92\n",
    "\n",
    "_число степеней свободы_ = 1\n",
    "\n",
    "Для числа степеней свободы 1, и ${\\alpha}$ = 0.05: Критическое значение ${\\chi}^2$ = 3.841\n",
    "\n",
    "Полученное эмпирическое значение критерия ${\\chi}^2$ оказалось гораздо меньше критического (0.01 < 3.841), это значит, что нулевая гипотеза не может быть отклонена. Cледовательно зависимость частоты пропусков от возраста - статистически НЕ значима.\n",
    "\n",
    "#### Старшие сотрудники пропускают работу по болезни (более 2-ух пропусков) НЕ чаще молодых.\n",
    "\n",
    "Аналогично, полученное _p-значение_ гораздо больше уровня значимости (0.92 > 0.05) - нулевая гипотеза не может быть отклонена."
   ]
  },
  {
   "cell_type": "markdown",
   "metadata": {},
   "source": [
    "#### Таким образом, нельзя обосновать, что возраст и пол значимо влияют на частоту пропусков работы. Ни одну из гипотез условия задачи принять нельзя ($H_{0}$ гипотезы не отклонены)."
   ]
  }
 ],
 "metadata": {
  "kernelspec": {
   "display_name": "Python 3",
   "language": "python",
   "name": "python3"
  },
  "language_info": {
   "codemirror_mode": {
    "name": "ipython",
    "version": 3
   },
   "file_extension": ".py",
   "mimetype": "text/x-python",
   "name": "python",
   "nbconvert_exporter": "python",
   "pygments_lexer": "ipython3",
   "version": "3.6.7"
  }
 },
 "nbformat": 4,
 "nbformat_minor": 2
}
